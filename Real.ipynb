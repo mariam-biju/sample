{
 "cells": [
  {
   "cell_type": "code",
   "execution_count": null,
   "metadata": {
    "colab": {
     "background_save": true,
     "base_uri": "https://localhost:8080/",
     "height": 1000
    },
    "id": "r7_Lufigjv6A",
    "outputId": "7185bccb-9588-4d91-d49c-4aed15edf68b"
   },
   "outputs": [],
   "source": [
    "import time\n",
    "import random\n",
    "\n",
    "# Simulated database\n",
    "inventory = {\n",
    "    \"RFID001\": {\"product\": \"Milk\", \"location\": \"Shelf1\", \"status\": \"in_stock\"},\n",
    "    \"RFID002\": {\"product\": \"Bread\", \"location\": \"Shelf1\", \"status\": \"in_stock\"},\n",
    "    \"RFID003\": {\"product\": \"Eggs\", \"location\": \"Shelf2\", \"status\": \"in_stock\"},\n",
    "}\n",
    "\n",
    "# Simulated RFID reader function\n",
    "def rfid_reader(shelf):\n",
    "    detected_tags = []\n",
    "    for tag_id, details in inventory.items():\n",
    "        if details[\"location\"] == shelf and details[\"status\"] == \"in_stock\":\n",
    "            detected_tags.append(tag_id)\n",
    "    return detected_tags\n",
    "\n",
    "# Simulation loop\n",
    "def simulate_shelf():\n",
    "    while True:\n",
    "        print(\"\\n--- RFID Reader Active ---\")\n",
    "        for shelf in [\"Shelf1\", \"Shelf2\"]:\n",
    "            detected = rfid_reader(shelf)\n",
    "            print(f\"{shelf} detected: {detected}\")\n",
    "\n",
    "        # Simulate random product removals or additions\n",
    "        event = random.choice([\"add\", \"remove\", \"none\"])\n",
    "        if event == \"remove\":\n",
    "            tag_to_remove = random.choice(list(inventory.keys()))\n",
    "            inventory[tag_to_remove][\"status\"] = \"removed\"\n",
    "            print(f\"Product removed: {tag_to_remove}\")\n",
    "        elif event == \"add\":\n",
    "            new_tag = f\"RFID00{len(inventory) + 1}\"\n",
    "            inventory[new_tag] = {\"product\": \"Butter\", \"location\": \"Shelf1\", \"status\": \"in_stock\"}\n",
    "            print(f\"Product added: {new_tag}\")\n",
    "\n",
    "        # Simulate stockout alert\n",
    "        for shelf in [\"Shelf1\", \"Shelf2\"]:\n",
    "            detected = rfid_reader(shelf)\n",
    "            if not detected:\n",
    "                print(f\"Alert: {shelf} is out of stock!\")\n",
    "\n",
    "        time.sleep(2)\n",
    "\n",
    "# Start the simulation\n",
    "simulate_shelf()\n"
   ]
  },
  {
   "cell_type": "code",
   "execution_count": null,
   "metadata": {
    "colab": {
     "base_uri": "https://localhost:8080/"
    },
    "id": "5smI7C5pkQZ7",
    "outputId": "356ba574-ec2c-4c11-f13b-950087f46072"
   },
   "outputs": [],
   "source": [
    "# Inventory with stock levels\n",
    "inventory = {\n",
    "    \"RFID001\": {\"product\": \"Milk\", \"location\": \"Shelf1\", \"stock\": 5},\n",
    "    \"RFID002\": {\"product\": \"Bread\", \"location\": \"Shelf1\", \"stock\": 3},\n",
    "    \"RFID003\": {\"product\": \"Eggs\", \"location\": \"Shelf2\", \"stock\": 0},  # Out of stock\n",
    "}\n",
    "\n",
    "# Function to check stock and fire notification\n",
    "def check_stock():\n",
    "    for tag_id, details in inventory.items():\n",
    "        if details[\"stock\"] == 0:\n",
    "            fire_notification(f\"Out of stock: {details['product']} on {details['location']}\")\n",
    "        elif details[\"stock\"] < 2:\n",
    "            fire_notification(f\"Low stock: {details['product']} on {details['location']}\")\n",
    "\n",
    "# Notification function\n",
    "def fire_notification(message):\n",
    "    print(f\"Notification: {message}\")\n",
    "\n",
    "# Simulate stock check\n",
    "check_stock()\n"
   ]
  },
  {
   "cell_type": "code",
   "execution_count": null,
   "metadata": {
    "colab": {
     "base_uri": "https://localhost:8080/"
    },
    "id": "kyC6yE7skVGa",
    "outputId": "0c73999e-c538-4457-df92-69ab9b232820"
   },
   "outputs": [],
   "source": [
    "# Simulated RFID detections\n",
    "rfid_readings = {\n",
    "    \"Shelf1\": [\"RFID001\", \"RFID003\"],  # Eggs are misplaced from Shelf2 to Shelf1\n",
    "}\n",
    "\n",
    "# Function to detect misplaced items\n",
    "def check_misplaced_items():\n",
    "    for shelf, detected_tags in rfid_readings.items():\n",
    "        for tag_id in detected_tags:\n",
    "            if inventory[tag_id][\"location\"] != shelf:\n",
    "                fire_notification(f\"Misplaced item: {inventory[tag_id]['product']} detected on {shelf}\")\n",
    "\n",
    "# Simulate misplaced item detection\n",
    "check_misplaced_items()\n"
   ]
  },
  {
   "cell_type": "code",
   "execution_count": null,
   "metadata": {
    "colab": {
     "background_save": true,
     "base_uri": "https://localhost:8080/"
    },
    "id": "GPkHMNchkZ2K",
    "outputId": "d6b0275c-31a9-446d-996a-41d558377d1b"
   },
   "outputs": [],
   "source": [
    "def simulate_shelf_activity():\n",
    "    while True:\n",
    "        # Check for stock issues\n",
    "        check_stock()\n",
    "\n",
    "        # Check for misplaced items\n",
    "        check_misplaced_items()\n",
    "\n",
    "        # Simulate a time delay\n",
    "        time.sleep(5)\n",
    "\n",
    "# Start simulation\n",
    "simulate_shelf_activity()\n"
   ]
  },
  {
   "cell_type": "code",
   "execution_count": null,
   "metadata": {
    "id": "HwOJgbgtshpQ"
   },
   "outputs": [],
   "source": [
    "import tkinter as tk\n",
    "from tkinter import messagebox\n",
    "\n",
    "# Inventory data with multiple sets\n",
    "inventory_data = {\n",
    "    1: {'RFID001': {'product': 'Milk', 'location': 'Shelf1', 'stock': 22},\n",
    "        'RFID002': {'product': 'Bread', 'location': 'Shelf1', 'stock': 72},\n",
    "        'RFID003': {'product': 'Eggs', 'location': 'Shelf2', 'stock': 55}},\n",
    "    2: {'RFID001': {'product': 'Milk', 'location': 'Shelf1', 'stock': 78},\n",
    "        'RFID002': {'product': 'Bread', 'location': 'Shelf1', 'stock': 91},\n",
    "        'RFID003': {'product': 'Eggs', 'location': 'Shelf2', 'stock': 75}},\n",
    "    3: {'RFID001': {'product': 'Milk', 'location': 'Shelf1', 'stock': 4},\n",
    "        'RFID002': {'product': 'Bread', 'location': 'Shelf1', 'stock': 5},\n",
    "        'RFID003': {'product': 'Eggs', 'location': 'Shelf2', 'stock': 26}},\n",
    "     4: {'RFID001': {'product': 'Milk', 'location': 'Shelf1', 'stock': 4},\n",
    "        'RFID002': {'product': 'Bread', 'location': 'Shelf1', 'stock': 5},\n",
    "        'RFID003': {'product': 'Eggs', 'location': 'Shelf2', 'stock': 26}},\n",
    "    5: {'RFID001': {'product': 'Milk', 'location': 'Shelf1', 'stock': 49},\n",
    "        'RFID002': {'product': 'Bread', 'location': 'Shelf1', 'stock': 60},\n",
    "        'RFID003': {'product': 'Eggs', 'location': 'Shelf2', 'stock': 97}},\n",
    "    6: {'RFID001': {'product': 'Milk', 'location': 'Shelf1', 'stock': 28},\n",
    "        'RFID002': {'product': 'Bread', 'location': 'Shelf1', 'stock': 59},\n",
    "        'RFID003': {'product': 'Eggs', 'location': 'Shelf2', 'stock': 54}},\n",
    "    7: {'RFID001': {'product': 'Milk', 'location': 'Shelf1', 'stock': 62},\n",
    "        'RFID002': {'product': 'Bread', 'location': 'Shelf1', 'stock': 60},\n",
    "        'RFID003': {'product': 'Eggs', 'location': 'Shelf2', 'stock': 97}},\n",
    "    8: {'RFID001': {'product': 'Milk', 'location': 'Shelf1', 'stock': 9},\n",
    "        'RFID002': {'product': 'Bread', 'location': 'Shelf1', 'stock': 49},\n",
    "        'RFID003': {'product': 'Eggs', 'location': 'Shelf2', 'stock': 21}},\n",
    "    9: {'RFID001': {'product': 'Milk', 'location': 'Shelf1', 'stock': 87},\n",
    "        'RFID002': {'product': 'Bread', 'location': 'Shelf1', 'stock': 84},\n",
    "        'RFID003': {'product': 'Eggs', 'location': 'Shelf2', 'stock': 28}},\n",
    "    10: {'RFID001': {'product': 'Milk', 'location': 'Shelf1', 'stock': 61},\n",
    "         'RFID002': {'product': 'Bread', 'location': 'Shelf1', 'stock': 0},\n",
    "         'RFID003': {'product': 'Eggs', 'location': 'Shelf2', 'stock': 22}},\n",
    "    11: {'RFID001': {'product': 'Milk', 'location': 'Shelf1', 'stock': 71},\n",
    "         'RFID002': {'product': 'Bread', 'location': 'Shelf1', 'stock': 25},\n",
    "         'RFID003': {'product': 'Eggs', 'location': 'Shelf2', 'stock': 69}},\n",
    "    12: {'RFID001': {'product': 'Milk', 'location': 'Shelf1', 'stock': 8},\n",
    "         'RFID002': {'product': 'Bread', 'location': 'Shelf1', 'stock': 11},\n",
    "         'RFID003': {'product': 'Eggs', 'location': 'Shelf2', 'stock': 42}},\n",
    "    13: {'RFID001': {'product': 'Milk', 'location': 'Shelf1', 'stock': 99},\n",
    "         'RFID002': {'product': 'Bread', 'location': 'Shelf1', 'stock': 45},\n",
    "         'RFID003': {'product': 'Eggs', 'location': 'Shelf2', 'stock': 95}},\n",
    "    14: {'RFID001': {'product': 'Milk', 'location': 'Shelf1', 'stock': 50},\n",
    "         'RFID002': {'product': 'Bread', 'location': 'Shelf1', 'stock': 39},\n",
    "         'RFID003': {'product': 'Eggs', 'location': 'Shelf2', 'stock': 87}},\n",
    "    15: {'RFID001': {'product': 'Milk', 'location': 'Shelf1', 'stock': 35},\n",
    "         'RFID002': {'product': 'Bread', 'location': 'Shelf1', 'stock': 32},\n",
    "         'RFID003': {'product': 'Eggs', 'location': 'Shelf2','stock':35}}\n",
    "}\n",
    "\n",
    "\n",
    "# Initialize the read count\n",
    "read_count = 0\n",
    "\n",
    "# Function to check stock and fire notifications\n",
    "def check_stock(inventory):\n",
    "    global read_count\n",
    "    read_count += 1\n",
    "    for tag_id, details in inventory.items():\n",
    "        if details['stock'] == 0:\n",
    "            fire_notification(f\"Out of stock: {details['product']} on {details['location']}\")\n",
    "        elif details['stock'] < 10:\n",
    "            fire_notification(f\"Low stock: {details['product']} on {details['location']}\")\n",
    "\n",
    "# Function to fire a notification\n",
    "def fire_notification(message):\n",
    "    messagebox.showinfo(\"Notification\", message)\n",
    "    update_status(f\"Notification: {message}\")\n",
    "\n",
    "# Function to update the UI with the read count\n",
    "def update_status(message):\n",
    "    status_label.config(text=f\"Read Count: {read_count}\\n{message}\")\n",
    "\n",
    "# Function to simulate sequential shelf activity\n",
    "def simulate_shelf_activity():\n",
    "    for set_number, inventory in inventory_data.items():\n",
    "        check_stock(inventory)\n",
    "\n",
    "# Create the main window\n",
    "root = tk.Tk\n"
   ]
  },
  {
   "cell_type": "markdown",
   "metadata": {
    "id": "OL_Eha3pBuGE"
   },
   "source": []
  },
  {
   "cell_type": "markdown",
   "metadata": {
    "id": "ZmRDkNpzBuCi"
   },
   "source": []
  },
  {
   "cell_type": "markdown",
   "metadata": {
    "id": "S1p9Hom3Bt5a"
   },
   "source": []
  },
  {
   "cell_type": "markdown",
   "metadata": {
    "id": "ooKwlOQWBt0v"
   },
   "source": []
  },
  {
   "cell_type": "markdown",
   "metadata": {
    "id": "Q0Bun6DsBttL"
   },
   "source": [
    "Next Cell, eeduhtu runn akkiyittu, last celll eduthu run akkiya mathi\n"
   ]
  },
  {
   "cell_type": "code",
   "execution_count": null,
   "metadata": {
    "id": "LK0opncnFDyx"
   },
   "outputs": [],
   "source": [
    "import json\n",
    "\n",
    "# Save the dictionary to a JSON file\n",
    "inventory_data = {\n",
    "    1: {'RFID001': {'product': 'Milk', 'location': 'Shelf1', 'stock': 22},\n",
    "        'RFID002': {'product': 'Bread', 'location': 'Shelf1', 'stock': 72},\n",
    "        'RFID003': {'product': 'Eggs', 'location': 'Shelf2', 'stock': 55}},\n",
    "    2: {'RFID001': {'product': 'Milk', 'location': 'Shelf1', 'stock': 78},\n",
    "        'RFID002': {'product': 'Bread', 'location': 'Shelf1', 'stock': 91},\n",
    "        'RFID003': {'product': 'Eggs', 'location': 'Shelf2', 'stock': 75}},\n",
    "    3: {'RFID001': {'product': 'Milk', 'location': 'Shelf1', 'stock': 4},\n",
    "        'RFID002': {'product': 'Bread', 'location': 'Shelf1', 'stock': 5},\n",
    "        'RFID003': {'product': 'Eggs', 'location': 'Shelf2', 'stock': 26}},\n",
    "     4: {'RFID001': {'product': 'Milk', 'location': 'Shelf1', 'stock': 30},\n",
    "        'RFID002': {'product': 'Bread', 'location': 'Shelf1', 'stock': 30},\n",
    "        'RFID003': {'product': 'Eggs', 'location': 'Shelf2', 'stock': 26}},\n",
    "    5: {'RFID001': {'product': 'Milk', 'location': 'Shelf1', 'stock': 49},\n",
    "        'RFID002': {'product': 'Bread', 'location': 'Shelf1', 'stock': 60},\n",
    "        'RFID003': {'product': 'Eggs', 'location': 'Shelf2', 'stock': 97}},\n",
    "    6: {'RFID001': {'product': 'Milk', 'location': 'Shelf1', 'stock': 28},\n",
    "        'RFID002': {'product': 'Bread', 'location': 'Shelf1', 'stock': 59},\n",
    "        'RFID003': {'product': 'Eggs', 'location': 'Shelf2', 'stock': 54}},\n",
    "    7: {'RFID001': {'product': 'Milk', 'location': 'Shelf1', 'stock': 62},\n",
    "        'RFID002': {'product': 'Bread', 'location': 'Shelf1', 'stock': 60},\n",
    "        'RFID003': {'product': 'Eggs', 'location': 'Shelf2', 'stock': 97}},\n",
    "    8: {'RFID001': {'product': 'Milk', 'location': 'Shelf1', 'stock': 9},\n",
    "        'RFID002': {'product': 'Bread', 'location': 'Shelf1', 'stock': 49},\n",
    "        'RFID003': {'product': 'Eggs', 'location': 'Shelf2', 'stock': 21}},\n",
    "    9: {'RFID001': {'product': 'Milk', 'location': 'Shelf1', 'stock': 87},\n",
    "        'RFID002': {'product': 'Bread', 'location': 'Shelf1', 'stock': 84},\n",
    "        'RFID003': {'product': 'Eggs', 'location': 'Shelf2', 'stock': 28}},\n",
    "    10: {'RFID001': {'product': 'Milk', 'location': 'Shelf1', 'stock': 61},\n",
    "         'RFID002': {'product': 'Bread', 'location': 'Shelf1', 'stock': 0},\n",
    "         'RFID003': {'product': 'Eggs', 'location': 'Shelf2', 'stock': 22}},\n",
    "    11: {'RFID001': {'product': 'Milk', 'location': 'Shelf1', 'stock': 71},\n",
    "         'RFID002': {'product': 'Bread', 'location': 'Shelf1', 'stock': 25},\n",
    "         'RFID003': {'product': 'Eggs', 'location': 'Shelf2', 'stock': 69}},\n",
    "    12: {'RFID001': {'product': 'Milk', 'location': 'Shelf1', 'stock': 8},\n",
    "         'RFID002': {'product': 'Bread', 'location': 'Shelf1', 'stock': 11},\n",
    "         'RFID003': {'product': 'Eggs', 'location': 'Shelf2', 'stock': 42}},\n",
    "    13: {'RFID001': {'product': 'Milk', 'location': 'Shelf1', 'stock': 99},\n",
    "         'RFID002': {'product': 'Bread', 'location': 'Shelf1', 'stock': 45},\n",
    "         'RFID003': {'product': 'Eggs', 'location': 'Shelf2', 'stock': 95}},\n",
    "    14: {'RFID001': {'product': 'Milk', 'location': 'Shelf1', 'stock': 50},\n",
    "         'RFID002': {'product': 'Bread', 'location': 'Shelf1', 'stock': 39},\n",
    "         'RFID003': {'product': 'Eggs', 'location': 'Shelf2', 'stock': 87}},\n",
    "    15: {'RFID001': {'product': 'Milk', 'location': 'Shelf1', 'stock': 35},\n",
    "         'RFID002': {'product': 'Bread', 'location': 'Shelf1', 'stock': 32},\n",
    "         'RFID003': {'product': 'Eggs', 'location': 'Shelf2','stock':35}}\n",
    "}\n",
    "\n",
    "try:\n",
    "    with open(\"inventory_data.json\", \"w\") as json_file:\n",
    "        json.dump(inventory_data, json_file, indent=4)\n",
    "    print(\"JSON file created successfully!\")\n",
    "except Exception as e:\n",
    "    print(f\"Error: {e}\")\n"
   ]
  },
  {
   "cell_type": "markdown",
   "metadata": {
    "id": "-wWYPvL6DRFJ"
   },
   "source": []
  },
  {
   "cell_type": "code",
   "execution_count": null,
   "metadata": {
    "id": "T2qK--BeBueS"
   },
   "outputs": [],
   "source": [
    "import tkinter as tk\n",
    "from tkinter import messagebox, scrolledtext\n",
    "import json\n",
    "\n",
    "# Load inventory data from a JSON file\n",
    "with open(\"inventory_data.json\", \"r\") as json_file:\n",
    "    loaded_inventory_data = json.load(json_file)\n",
    "\n",
    "# Convert keys back to integers, as JSON only supports string keys\n",
    "inventory_data = {int(k): v for k, v in loaded_inventory_data.items()}\n",
    "\n",
    "# Initialize the read count\n",
    "read_count = 0\n",
    "\n",
    "# Create a list of inventory sets to process sequentially\n",
    "inventory_sets = list(inventory_data.items())\n",
    "current_set_index = 0\n",
    "\n",
    "# Function to check stock and fire notifications\n",
    "def check_stock(inventory):\n",
    "    global read_count\n",
    "    read_count += 1\n",
    "    for tag_id, details in inventory.items():\n",
    "        if details['stock'] == 0:\n",
    "            fire_notification(f\"Out of stock: {details['product']} on {details['location']}\")\n",
    "        elif details['stock'] < 10:\n",
    "            fire_notification(f\"Low stock: {details['product']} on {details['location']}\")\n",
    "    update_status()\n",
    "\n",
    "# Function to fire a notification\n",
    "def fire_notification(message):\n",
    "    messagebox.showinfo(\"Notification\", message)\n",
    "    update_log(message)\n",
    "\n",
    "# Function to update the status label\n",
    "def update_status():\n",
    "    status_label.config(text=f\"Read Count: {read_count}\")\n",
    "\n",
    "# Function to update the notification log\n",
    "def update_log(message):\n",
    "    log_textbox.insert(tk.END, f\"{message}\\n\")\n",
    "    log_textbox.see(tk.END)  # Auto-scroll to the bottom\n",
    "\n",
    "# Function to process each set with a time gap\n",
    "def process_next_set():\n",
    "    global current_set_index\n",
    "    if current_set_index < len(inventory_sets):\n",
    "        set_number, inventory = inventory_sets[current_set_index]\n",
    "        check_stock(inventory)\n",
    "        current_set_index += 1\n",
    "        root.after(3000, process_next_set)  # Schedule next set after 3 seconds\n",
    "\n",
    "# Function to start the simulation\n",
    "def simulate_shelf_activity():\n",
    "    global current_set_index\n",
    "    current_set_index = 0\n",
    "    process_next_set()\n",
    "\n",
    "# Create the main window\n",
    "root = tk.Tk()\n",
    "root.title(\"Smart Shelf Notifications\")\n",
    "\n",
    "# Create UI elements\n",
    "status_label = tk.Label(root, text=\"Read Count: 0\", font=(\"Helvetica\", 14))\n",
    "status_label.pack(pady=10)\n",
    "\n",
    "start_button = tk.Button(root, text=\"Start Shelf Simulation\", command=simulate_shelf_activity, font=(\"Helvetica\", 12))\n",
    "start_button.pack(pady=10)\n",
    "\n",
    "log_label = tk.Label(root, text=\"Notification Log:\", font=(\"Helvetica\", 12))\n",
    "log_label.pack(pady=5)\n",
    "\n",
    "# Create a scrollable text box for the notification log\n",
    "log_textbox = scrolledtext.ScrolledText(root, width=50, height=15, font=(\"Helvetica\", 10))\n",
    "log_textbox.pack(pady=10)\n",
    "\n",
    "# Run the GUI\n",
    "root.mainloop()\n"
   ]
  },
  {
   "cell_type": "code",
   "execution_count": null,
   "metadata": {
    "colab": {
     "base_uri": "https://localhost:8080/"
    },
    "id": "magEskKQoWrN",
    "outputId": "c6d51d12-735b-4be8-acb4-3ee309785d4c"
   },
   "outputs": [],
   "source": [
    "print(1+1)"
   ]
  },
  {
   "cell_type": "markdown",
   "metadata": {
    "id": "7TRKvAUdohFV"
   },
   "source": [
    "### **MoDEl CREATION**"
   ]
  },
  {
   "cell_type": "code",
   "execution_count": null,
   "metadata": {
    "id": "CaoJbBkfou86"
   },
   "outputs": [],
   "source": []
  }
 ],
 "metadata": {
  "colab": {
   "provenance": []
  },
  "kernelspec": {
   "display_name": "Python 3",
   "name": "python3"
  },
  "language_info": {
   "name": "python"
  }
 },
 "nbformat": 4,
 "nbformat_minor": 0
}
